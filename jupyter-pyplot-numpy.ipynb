{
 "cells": [
  {
   "cell_type": "markdown",
   "metadata": {},
   "source": [
    "# Jupter, Pyplot and Numpy Problem Sheet\n",
    "This is a jupyter notebook of 10 exercises based on pyplot and numpy I need to complete for the Emerging Technologies module I am taking in my course this semester"
   ]
  },
  {
   "cell_type": "markdown",
   "metadata": {},
   "source": [
    "# Exercise 1 - Get & load data"
   ]
  },
  {
   "cell_type": "code",
   "execution_count": 1,
   "metadata": {},
   "outputs": [
    {
     "name": "stdout",
     "output_type": "stream",
     "text": [
      "['5.1', '3.5', '1.4', '0.2', 'Iris-setosa']\n",
      "['4.9', '3', '1.4', '0.2', 'Iris-setosa']\n",
      "['4.7', '3.2', '1.3', '0.2', 'Iris-setosa']\n",
      "['4.6', '3.1', '1.5', '0.2', 'Iris-setosa']\n",
      "['5', '3.6', '1.4', '0.2', 'Iris-setosa']\n",
      "['5.4', '3.9', '1.7', '0.4', 'Iris-setosa']\n",
      "['4.6', '3.4', '1.4', '0.3', 'Iris-setosa']\n",
      "['5', '3.4', '1.5', '0.2', 'Iris-setosa']\n",
      "['4.4', '2.9', '1.4', '0.2', 'Iris-setosa']\n",
      "['4.9', '3.1', '1.5', '0.1', 'Iris-setosa']\n",
      "['5.4', '3.7', '1.5', '0.2', 'Iris-setosa']\n",
      "['4.8', '3.4', '1.6', '0.2', 'Iris-setosa']\n",
      "['4.8', '3', '1.4', '0.1', 'Iris-setosa']\n",
      "['4.3', '3', '1.1', '0.1', 'Iris-setosa']\n",
      "['5.8', '4', '1.2', '0.2', 'Iris-setosa']\n",
      "['5.7', '4.4', '1.5', '0.4', 'Iris-setosa']\n",
      "['5.4', '3.9', '1.3', '0.4', 'Iris-setosa']\n",
      "['5.1', '3.5', '1.4', '0.3', 'Iris-setosa']\n",
      "['5.7', '3.8', '1.7', '0.3', 'Iris-setosa']\n",
      "['5.1', '3.8', '1.5', '0.3', 'Iris-setosa']\n",
      "['5.4', '3.4', '1.7', '0.2', 'Iris-setosa']\n",
      "['5.1', '3.7', '1.5', '0.4', 'Iris-setosa']\n",
      "['4.6', '3.6', '1', '0.2', 'Iris-setosa']\n",
      "['5.1', '3.3', '1.7', '0.5', 'Iris-setosa']\n",
      "['4.8', '3.4', '1.9', '0.2', 'Iris-setosa']\n",
      "['5', '3', '1.6', '0.2', 'Iris-setosa']\n",
      "['5', '3.4', '1.6', '0.4', 'Iris-setosa']\n",
      "['5.2', '3.5', '1.5', '0.2', 'Iris-setosa']\n",
      "['5.2', '3.4', '1.4', '0.2', 'Iris-setosa']\n",
      "['4.7', '3.2', '1.6', '0.2', 'Iris-setosa']\n",
      "['4.8', '3.1', '1.6', '0.2', 'Iris-setosa']\n",
      "['5.4', '3.4', '1.5', '0.4', 'Iris-setosa']\n",
      "['5.2', '4.1', '1.5', '0.1', 'Iris-setosa']\n",
      "['5.5', '4.2', '1.4', '0.2', 'Iris-setosa']\n",
      "['4.9', '3.1', '1.5', '0.1', 'Iris-setosa']\n",
      "['5', '3.2', '1.2', '0.2', 'Iris-setosa']\n",
      "['5.5', '3.5', '1.3', '0.2', 'Iris-setosa']\n",
      "['4.9', '3.1', '1.5', '0.1', 'Iris-setosa']\n",
      "['4.4', '3', '1.3', '0.2', 'Iris-setosa']\n",
      "['5.1', '3.4', '1.5', '0.2', 'Iris-setosa']\n",
      "['5', '3.5', '1.3', '0.3', 'Iris-setosa']\n",
      "['4.5', '2.3', '1.3', '0.3', 'Iris-setosa']\n",
      "['4.4', '3.2', '1.3', '0.2', 'Iris-setosa']\n",
      "['5', '3.5', '1.6', '0.6', 'Iris-setosa']\n",
      "['5.1', '3.8', '1.9', '0.4', 'Iris-setosa']\n",
      "['4.8', '3', '1.4', '0.3', 'Iris-setosa']\n",
      "['5.1', '3.8', '1.6', '0.2', 'Iris-setosa']\n",
      "['4.6', '3.2', '1.4', '0.2', 'Iris-setosa']\n",
      "['5.3', '3.7', '1.5', '0.2', 'Iris-setosa']\n",
      "['5', '3.3', '1.4', '0.2', 'Iris-setosa']\n",
      "['7', '3.2', '4.7', '1.4', 'Iris-versicolor']\n",
      "['6.4', '3.2', '4.5', '1.5', 'Iris-versicolor']\n",
      "['6.9', '3.1', '4.9', '1.5', 'Iris-versicolor']\n",
      "['5.5', '2.3', '4', '1.3', 'Iris-versicolor']\n",
      "['6.5', '2.8', '4.6', '1.5', 'Iris-versicolor']\n",
      "['5.7', '2.8', '4.5', '1.3', 'Iris-versicolor']\n",
      "['6.3', '3.3', '4.7', '1.6', 'Iris-versicolor']\n",
      "['4.9', '2.4', '3.3', '1', 'Iris-versicolor']\n",
      "['6.6', '2.9', '4.6', '1.3', 'Iris-versicolor']\n",
      "['5.2', '2.7', '3.9', '1.4', 'Iris-versicolor']\n",
      "['5', '2', '3.5', '1', 'Iris-versicolor']\n",
      "['5.9', '3', '4.2', '1.5', 'Iris-versicolor']\n",
      "['6', '2.2', '4', '1', 'Iris-versicolor']\n",
      "['6.1', '2.9', '4.7', '1.4', 'Iris-versicolor']\n",
      "['5.6', '2.9', '3.6', '1.3', 'Iris-versicolor']\n",
      "['6.7', '3.1', '4.4', '1.4', 'Iris-versicolor']\n",
      "['5.6', '3', '4.5', '1.5', 'Iris-versicolor']\n",
      "['5.8', '2.7', '4.1', '1', 'Iris-versicolor']\n",
      "['6.2', '2.2', '4.5', '1.5', 'Iris-versicolor']\n",
      "['5.6', '2.5', '3.9', '1.1', 'Iris-versicolor']\n",
      "['5.9', '3.2', '4.8', '1.8', 'Iris-versicolor']\n",
      "['6.1', '2.8', '4', '1.3', 'Iris-versicolor']\n",
      "['6.3', '2.5', '4.9', '1.5', 'Iris-versicolor']\n",
      "['6.1', '2.8', '4.7', '1.2', 'Iris-versicolor']\n",
      "['6.4', '2.9', '4.3', '1.3', 'Iris-versicolor']\n",
      "['6.6', '3', '4.4', '1.4', 'Iris-versicolor']\n",
      "['6.8', '2.8', '4.8', '1.4', 'Iris-versicolor']\n",
      "['6.7', '3', '5', '1.7', 'Iris-versicolor']\n",
      "['6', '2.9', '4.5', '1.5', 'Iris-versicolor']\n",
      "['5.7', '2.6', '3.5', '1', 'Iris-versicolor']\n",
      "['5.5', '2.4', '3.8', '1.1', 'Iris-versicolor']\n",
      "['5.5', '2.4', '3.7', '1', 'Iris-versicolor']\n",
      "['5.8', '2.7', '3.9', '1.2', 'Iris-versicolor']\n",
      "['6', '2.7', '5.1', '1.6', 'Iris-versicolor']\n",
      "['5.4', '3', '4.5', '1.5', 'Iris-versicolor']\n",
      "['6', '3.4', '4.5', '1.6', 'Iris-versicolor']\n",
      "['6.7', '3.1', '4.7', '1.5', 'Iris-versicolor']\n",
      "['6.3', '2.3', '4.4', '1.3', 'Iris-versicolor']\n",
      "['5.6', '3', '4.1', '1.3', 'Iris-versicolor']\n",
      "['5.5', '2.5', '4', '1.3', 'Iris-versicolor']\n",
      "['5.5', '2.6', '4.4', '1.2', 'Iris-versicolor']\n",
      "['6.1', '3', '4.6', '1.4', 'Iris-versicolor']\n",
      "['5.8', '2.6', '4', '1.2', 'Iris-versicolor']\n",
      "['5', '2.3', '3.3', '1', 'Iris-versicolor']\n",
      "['5.6', '2.7', '4.2', '1.3', 'Iris-versicolor']\n",
      "['5.7', '3', '4.2', '1.2', 'Iris-versicolor']\n",
      "['5.7', '2.9', '4.2', '1.3', 'Iris-versicolor']\n",
      "['6.2', '2.9', '4.3', '1.3', 'Iris-versicolor']\n",
      "['5.1', '2.5', '3', '1.1', 'Iris-versicolor']\n",
      "['5.7', '2.8', '4.1', '1.3', 'Iris-versicolor']\n",
      "['6.3', '3.3', '6', '2.5', 'Iris-virginica']\n",
      "['5.8', '2.7', '5.1', '1.9', 'Iris-virginica']\n",
      "['7.1', '3', '5.9', '2.1', 'Iris-virginica']\n",
      "['6.3', '2.9', '5.6', '1.8', 'Iris-virginica']\n",
      "['6.5', '3', '5.8', '2.2', 'Iris-virginica']\n",
      "['7.6', '3', '6.6', '2.1', 'Iris-virginica']\n",
      "['4.9', '2.5', '4.5', '1.7', 'Iris-virginica']\n",
      "['7.3', '2.9', '6.3', '1.8', 'Iris-virginica']\n",
      "['6.7', '2.5', '5.8', '1.8', 'Iris-virginica']\n",
      "['7.2', '3.6', '6.1', '2.5', 'Iris-virginica']\n",
      "['6.5', '3.2', '5.1', '2', 'Iris-virginica']\n",
      "['6.4', '2.7', '5.3', '1.9', 'Iris-virginica']\n",
      "['6.8', '3', '5.5', '2.1', 'Iris-virginica']\n",
      "['5.7', '2.5', '5', '2', 'Iris-virginica']\n",
      "['5.8', '2.8', '5.1', '2.4', 'Iris-virginica']\n",
      "['6.4', '3.2', '5.3', '2.3', 'Iris-virginica']\n",
      "['6.5', '3', '5.5', '1.8', 'Iris-virginica']\n",
      "['7.7', '3.8', '6.7', '2.2', 'Iris-virginica']\n",
      "['7.7', '2.6', '6.9', '2.3', 'Iris-virginica']\n",
      "['6', '2.2', '5', '1.5', 'Iris-virginica']\n",
      "['6.9', '3.2', '5.7', '2.3', 'Iris-virginica']\n",
      "['5.6', '2.8', '4.9', '2', 'Iris-virginica']\n",
      "['7.7', '2.8', '6.7', '2', 'Iris-virginica']\n",
      "['6.3', '2.7', '4.9', '1.8', 'Iris-virginica']\n",
      "['6.7', '3.3', '5.7', '2.1', 'Iris-virginica']\n",
      "['7.2', '3.2', '6', '1.8', 'Iris-virginica']\n",
      "['6.2', '2.8', '4.8', '1.8', 'Iris-virginica']\n",
      "['6.1', '3', '4.9', '1.8', 'Iris-virginica']\n",
      "['6.4', '2.8', '5.6', '2.1', 'Iris-virginica']\n",
      "['7.2', '3', '5.8', '1.6', 'Iris-virginica']\n",
      "['7.4', '2.8', '6.1', '1.9', 'Iris-virginica']\n",
      "['7.9', '3.8', '6.4', '2', 'Iris-virginica']\n",
      "['6.4', '2.8', '5.6', '2.2', 'Iris-virginica']\n",
      "['6.3', '2.8', '5.1', '1.5', 'Iris-virginica']\n",
      "['6.1', '2.6', '5.6', '1.4', 'Iris-virginica']\n",
      "['7.7', '3', '6.1', '2.3', 'Iris-virginica']\n",
      "['6.3', '3.4', '5.6', '2.4', 'Iris-virginica']\n",
      "['6.4', '3.1', '5.5', '1.8', 'Iris-virginica']\n",
      "['6', '3', '4.8', '1.8', 'Iris-virginica']\n",
      "['6.9', '3.1', '5.4', '2.1', 'Iris-virginica']\n",
      "['6.7', '3.1', '5.6', '2.4', 'Iris-virginica']\n",
      "['6.9', '3.1', '5.1', '2.3', 'Iris-virginica']\n",
      "['5.8', '2.7', '5.1', '1.9', 'Iris-virginica']\n",
      "['6.8', '3.2', '5.9', '2.3', 'Iris-virginica']\n",
      "['6.7', '3.3', '5.7', '2.5', 'Iris-virginica']\n",
      "['6.7', '3', '5.2', '2.3', 'Iris-virginica']\n",
      "['6.3', '2.5', '5', '1.9', 'Iris-virginica']\n",
      "['6.5', '3', '5.2', '2', 'Iris-virginica']\n",
      "['6.2', '3.4', '5.4', '2.3', 'Iris-virginica']\n",
      "['5.9', '3', '5.1', '1.8', 'Iris-virginica']\n"
     ]
    }
   ],
   "source": [
    "import csv\n",
    "\n",
    "dataFile = \"Iris.csv\"\n",
    "seLength, seWidth, ptLength, ptWidth, irType = [], [], [], [], []\n",
    "\n",
    "with open(dataFile, \"rt\") as fi:\n",
    "    data = csv.reader(fi)\n",
    "    for i, row in enumerate(data):\n",
    "        seLength.append(row[0])\n",
    "        seWidth.append(row[1])\n",
    "        ptLength.append(row[2])\n",
    "        ptWidth.append(row[3])\n",
    "        irType.append(row[4])\n",
    "        \n",
    "        print(row)"
   ]
  },
  {
   "cell_type": "markdown",
   "metadata": {},
   "source": [
    "# Exercise 2 - Write a note about the data set"
   ]
  },
  {
   "cell_type": "markdown",
   "metadata": {},
   "source": [
    "The Iris data set was founded by Ronald Fisher, a British man who was a statistican and biologist. It was introduced in a paper he wrote in 1936 called \"The use of multiple measurements in taxonomic problems\". The data set is made up of 50 samples from the 3 spicies of Iris and there is four features for each sample. The data set is used to aid in machine learning in areas such as support vector machines."
   ]
  },
  {
   "cell_type": "markdown",
   "metadata": {},
   "source": [
    "# Exercise 3 - Create a simple plot"
   ]
  },
  {
   "cell_type": "code",
   "execution_count": 3,
   "metadata": {},
   "outputs": [
    {
     "data": {
      "image/png": "[encoded data removed]",
      "text/plain": [
       "<matplotlib.figure.Figure at 0x6fbac10>"
      ]
     },
     "metadata": {},
     "output_type": "display_data"
    }
   ],
   "source": [
    "import matplotlib.pyplot as pl\n",
    "\n",
    "x, y = seLength, seWidth\n",
    "\n",
    "pl.rcParams['figure.figsize'] = (16,8)\n",
    "pl.title('Simple Plot For Iris Data Set')\n",
    "pl.xlabel('Sepal Length')\n",
    "pl.ylabel('Sepal Width')\n",
    "pl.scatter(x,y)\n",
    "pl.show()"
   ]
  },
  {
   "cell_type": "markdown",
   "metadata": {},
   "source": [
    "# Exercise 4 - Create a more complex plot"
   ]
  },
  {
   "cell_type": "markdown",
   "metadata": {},
   "source": [
    "# Exercise 5 - Use seaborn"
   ]
  },
  {
   "cell_type": "markdown",
   "metadata": {},
   "source": [
    "# Exercise 6 - Fit a line"
   ]
  },
  {
   "cell_type": "markdown",
   "metadata": {},
   "source": [
    "# Exercise 7 - Calculate the R-squared value"
   ]
  },
  {
   "cell_type": "markdown",
   "metadata": {},
   "source": [
    "# Exercise 8 - Fit another line"
   ]
  },
  {
   "cell_type": "markdown",
   "metadata": {},
   "source": [
    "# Exercise 9 - Calculate the R-squared value"
   ]
  },
  {
   "cell_type": "markdown",
   "metadata": {},
   "source": [
    "# Exercise 10 -  Use gradient descent"
   ]
  }
 ],
 "metadata": {
  "kernelspec": {
   "display_name": "Python 3",
   "language": "python",
   "name": "python3"
  },
  "language_info": {
   "codemirror_mode": {
    "name": "ipython",
    "version": 3
   },
   "file_extension": ".py",
   "mimetype": "text/x-python",
   "name": "python",
   "nbconvert_exporter": "python",
   "pygments_lexer": "ipython3",
   "version": "3.6.1"
  }
 },
 "nbformat": 4,
 "nbformat_minor": 2
}
